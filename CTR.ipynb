{
  "nbformat": 4,
  "nbformat_minor": 0,
  "metadata": {
    "colab": {
      "name": "CTR",
      "version": "0.3.2",
      "provenance": [],
      "include_colab_link": true
    },
    "kernelspec": {
      "name": "python3",
      "display_name": "Python 3"
    }
  },
  "cells": [
    {
      "cell_type": "markdown",
      "metadata": {
        "id": "view-in-github",
        "colab_type": "text"
      },
      "source": [
        "<a href=\"https://colab.research.google.com/github/Katrinayang3/Github_test/blob/master/CTR.ipynb\" target=\"_parent\"><img src=\"https://colab.research.google.com/assets/colab-badge.svg\" alt=\"Open In Colab\"/></a>"
      ]
    },
    {
      "metadata": {
        "id": "oc6-d3ZSsaCS",
        "colab_type": "code",
        "colab": {}
      },
      "cell_type": "code",
      "source": [
        "import pandas as pd\n",
        "import numpy as np\n",
        "import dask.dataframe as dask_data\n",
        "\n",
        "import matplotlib\n",
        "import matplotlib.pyplot as plt\n",
        "import seaborn as sns\n",
        "import plotly.graph_objs as go\n",
        "from plotly.offline import init_notebook_mode, iplot, plot, download_plotlyjs\n",
        "\n",
        "import sklearn\n",
        "import matplotlib.dates as mdates\n",
        "matplotlib.style.use('ggplot')\n",
        "\n",
        "#A parse date variable to pass in the read_csv function later to take into account the date format \n",
        "parse_date = lambda val : pd.datetime.strptime(val, '%y%m%d%H')"
      ],
      "execution_count": 0,
      "outputs": []
    },
    {
      "metadata": {
        "id": "adO2EBxNI4te",
        "colab_type": "code",
        "outputId": "dad3d113-570b-4610-9dba-59438d9dcc9d",
        "colab": {
          "base_uri": "https://localhost:8080/",
          "height": 64
        }
      },
      "cell_type": "code",
      "source": [
        "from google.colab import drive\n",
        "drive.mount('/content/drive/')"
      ],
      "execution_count": 0,
      "outputs": [
        {
          "output_type": "stream",
          "text": [
            "Drive already mounted at /content/drive/; to attempt to forcibly remount, call drive.mount(\"/content/drive/\", force_remount=True).\n"
          ],
          "name": "stdout"
        }
      ]
    },
    {
      "metadata": {
        "id": "oqTYtvI6JkNd",
        "colab_type": "code",
        "outputId": "d4bcef4f-0936-4cca-cfe5-ebc2f272f716",
        "colab": {
          "base_uri": "https://localhost:8080/",
          "height": 565
        }
      },
      "cell_type": "code",
      "source": [
        "# A sample dataset of 100k lines.\n",
        "!ls '/content/drive/My Drive/train_data'\n",
        "\n",
        "train_data = pd.read_csv('/content/drive/My Drive/train_data/train.csv', parse_dates = ['hour'], date_parser = parse_date)\n",
        "\n",
        "train_data.info()\n",
        "\n",
        "train_data_clicks = train_data[train_data['click']==1]"
      ],
      "execution_count": 0,
      "outputs": [
        {
          "output_type": "stream",
          "text": [
            "train.csv\n",
            "<class 'pandas.core.frame.DataFrame'>\n",
            "RangeIndex: 100000 entries, 0 to 99999\n",
            "Data columns (total 24 columns):\n",
            "id                  100000 non-null float64\n",
            "click               100000 non-null int64\n",
            "hour                100000 non-null datetime64[ns]\n",
            "C1                  100000 non-null int64\n",
            "banner_pos          100000 non-null int64\n",
            "site_id             100000 non-null object\n",
            "site_domain         100000 non-null object\n",
            "site_category       100000 non-null object\n",
            "app_id              100000 non-null object\n",
            "app_domain          100000 non-null object\n",
            "app_category        100000 non-null object\n",
            "device_id           100000 non-null object\n",
            "device_ip           100000 non-null object\n",
            "device_model        100000 non-null object\n",
            "device_type         100000 non-null int64\n",
            "device_conn_type    100000 non-null int64\n",
            "C14                 100000 non-null int64\n",
            "C15                 100000 non-null int64\n",
            "C16                 100000 non-null int64\n",
            "C17                 100000 non-null int64\n",
            "C18                 100000 non-null int64\n",
            "C19                 100000 non-null int64\n",
            "C20                 100000 non-null int64\n",
            "C21                 100000 non-null int64\n",
            "dtypes: datetime64[ns](1), float64(1), int64(13), object(9)\n",
            "memory usage: 18.3+ MB\n"
          ],
          "name": "stdout"
        }
      ]
    },
    {
      "metadata": {
        "id": "K1rw8Np_Nsws",
        "colab_type": "code",
        "outputId": "f3e5f6f4-efe1-433e-9da2-75dd1941dac6",
        "colab": {
          "base_uri": "https://localhost:8080/",
          "height": 297
        }
      },
      "cell_type": "code",
      "source": [
        "train_data.describe()\n"
      ],
      "execution_count": 0,
      "outputs": [
        {
          "output_type": "execute_result",
          "data": {
            "text/html": [
              "<div>\n",
              "<style scoped>\n",
              "    .dataframe tbody tr th:only-of-type {\n",
              "        vertical-align: middle;\n",
              "    }\n",
              "\n",
              "    .dataframe tbody tr th {\n",
              "        vertical-align: top;\n",
              "    }\n",
              "\n",
              "    .dataframe thead th {\n",
              "        text-align: right;\n",
              "    }\n",
              "</style>\n",
              "<table border=\"1\" class=\"dataframe\">\n",
              "  <thead>\n",
              "    <tr style=\"text-align: right;\">\n",
              "      <th></th>\n",
              "      <th>id</th>\n",
              "      <th>click</th>\n",
              "      <th>C1</th>\n",
              "      <th>banner_pos</th>\n",
              "      <th>device_type</th>\n",
              "      <th>device_conn_type</th>\n",
              "      <th>C14</th>\n",
              "      <th>C15</th>\n",
              "      <th>C16</th>\n",
              "      <th>C17</th>\n",
              "      <th>C18</th>\n",
              "      <th>C19</th>\n",
              "      <th>C20</th>\n",
              "      <th>C21</th>\n",
              "    </tr>\n",
              "  </thead>\n",
              "  <tbody>\n",
              "    <tr>\n",
              "      <th>count</th>\n",
              "      <td>1.000000e+05</td>\n",
              "      <td>100000.000000</td>\n",
              "      <td>100000.000000</td>\n",
              "      <td>100000.00000</td>\n",
              "      <td>100000.000000</td>\n",
              "      <td>100000.000000</td>\n",
              "      <td>100000.000000</td>\n",
              "      <td>100000.000000</td>\n",
              "      <td>100000.000000</td>\n",
              "      <td>100000.000000</td>\n",
              "      <td>100000.000000</td>\n",
              "      <td>100000.000000</td>\n",
              "      <td>100000.000000</td>\n",
              "      <td>100000.000000</td>\n",
              "    </tr>\n",
              "    <tr>\n",
              "      <th>mean</th>\n",
              "      <td>9.500813e+18</td>\n",
              "      <td>0.174900</td>\n",
              "      <td>1005.034410</td>\n",
              "      <td>0.19830</td>\n",
              "      <td>1.055730</td>\n",
              "      <td>0.199270</td>\n",
              "      <td>17682.145900</td>\n",
              "      <td>318.333960</td>\n",
              "      <td>56.818920</td>\n",
              "      <td>1964.034380</td>\n",
              "      <td>0.789350</td>\n",
              "      <td>131.734480</td>\n",
              "      <td>37874.227610</td>\n",
              "      <td>88.555670</td>\n",
              "    </tr>\n",
              "    <tr>\n",
              "      <th>std</th>\n",
              "      <td>5.669410e+18</td>\n",
              "      <td>0.379883</td>\n",
              "      <td>1.088741</td>\n",
              "      <td>0.40264</td>\n",
              "      <td>0.583993</td>\n",
              "      <td>0.635268</td>\n",
              "      <td>3237.735265</td>\n",
              "      <td>11.931939</td>\n",
              "      <td>36.924104</td>\n",
              "      <td>394.962696</td>\n",
              "      <td>1.223761</td>\n",
              "      <td>244.076787</td>\n",
              "      <td>48546.274316</td>\n",
              "      <td>45.482841</td>\n",
              "    </tr>\n",
              "    <tr>\n",
              "      <th>min</th>\n",
              "      <td>3.237563e+13</td>\n",
              "      <td>0.000000</td>\n",
              "      <td>1001.000000</td>\n",
              "      <td>0.00000</td>\n",
              "      <td>0.000000</td>\n",
              "      <td>0.000000</td>\n",
              "      <td>375.000000</td>\n",
              "      <td>120.000000</td>\n",
              "      <td>20.000000</td>\n",
              "      <td>112.000000</td>\n",
              "      <td>0.000000</td>\n",
              "      <td>33.000000</td>\n",
              "      <td>-1.000000</td>\n",
              "      <td>13.000000</td>\n",
              "    </tr>\n",
              "    <tr>\n",
              "      <th>25%</th>\n",
              "      <td>4.183340e+18</td>\n",
              "      <td>0.000000</td>\n",
              "      <td>1005.000000</td>\n",
              "      <td>0.00000</td>\n",
              "      <td>1.000000</td>\n",
              "      <td>0.000000</td>\n",
              "      <td>15704.000000</td>\n",
              "      <td>320.000000</td>\n",
              "      <td>50.000000</td>\n",
              "      <td>1722.000000</td>\n",
              "      <td>0.000000</td>\n",
              "      <td>35.000000</td>\n",
              "      <td>-1.000000</td>\n",
              "      <td>61.000000</td>\n",
              "    </tr>\n",
              "    <tr>\n",
              "      <th>50%</th>\n",
              "      <td>1.074496e+19</td>\n",
              "      <td>0.000000</td>\n",
              "      <td>1005.000000</td>\n",
              "      <td>0.00000</td>\n",
              "      <td>1.000000</td>\n",
              "      <td>0.000000</td>\n",
              "      <td>17654.000000</td>\n",
              "      <td>320.000000</td>\n",
              "      <td>50.000000</td>\n",
              "      <td>1993.000000</td>\n",
              "      <td>0.000000</td>\n",
              "      <td>35.000000</td>\n",
              "      <td>-1.000000</td>\n",
              "      <td>79.000000</td>\n",
              "    </tr>\n",
              "    <tr>\n",
              "      <th>75%</th>\n",
              "      <td>1.457542e+19</td>\n",
              "      <td>0.000000</td>\n",
              "      <td>1005.000000</td>\n",
              "      <td>0.00000</td>\n",
              "      <td>1.000000</td>\n",
              "      <td>0.000000</td>\n",
              "      <td>20362.000000</td>\n",
              "      <td>320.000000</td>\n",
              "      <td>50.000000</td>\n",
              "      <td>2306.000000</td>\n",
              "      <td>2.000000</td>\n",
              "      <td>39.000000</td>\n",
              "      <td>100083.000000</td>\n",
              "      <td>156.000000</td>\n",
              "    </tr>\n",
              "    <tr>\n",
              "      <th>max</th>\n",
              "      <td>1.844670e+19</td>\n",
              "      <td>1.000000</td>\n",
              "      <td>1010.000000</td>\n",
              "      <td>5.00000</td>\n",
              "      <td>5.000000</td>\n",
              "      <td>5.000000</td>\n",
              "      <td>21705.000000</td>\n",
              "      <td>728.000000</td>\n",
              "      <td>480.000000</td>\n",
              "      <td>2497.000000</td>\n",
              "      <td>3.000000</td>\n",
              "      <td>1835.000000</td>\n",
              "      <td>100248.000000</td>\n",
              "      <td>157.000000</td>\n",
              "    </tr>\n",
              "  </tbody>\n",
              "</table>\n",
              "</div>"
            ],
            "text/plain": [
              "                 id          click             C1    banner_pos  \\\n",
              "count  1.000000e+05  100000.000000  100000.000000  100000.00000   \n",
              "mean   9.500813e+18       0.174900    1005.034410       0.19830   \n",
              "std    5.669410e+18       0.379883       1.088741       0.40264   \n",
              "min    3.237563e+13       0.000000    1001.000000       0.00000   \n",
              "25%    4.183340e+18       0.000000    1005.000000       0.00000   \n",
              "50%    1.074496e+19       0.000000    1005.000000       0.00000   \n",
              "75%    1.457542e+19       0.000000    1005.000000       0.00000   \n",
              "max    1.844670e+19       1.000000    1010.000000       5.00000   \n",
              "\n",
              "         device_type  device_conn_type            C14            C15  \\\n",
              "count  100000.000000     100000.000000  100000.000000  100000.000000   \n",
              "mean        1.055730          0.199270   17682.145900     318.333960   \n",
              "std         0.583993          0.635268    3237.735265      11.931939   \n",
              "min         0.000000          0.000000     375.000000     120.000000   \n",
              "25%         1.000000          0.000000   15704.000000     320.000000   \n",
              "50%         1.000000          0.000000   17654.000000     320.000000   \n",
              "75%         1.000000          0.000000   20362.000000     320.000000   \n",
              "max         5.000000          5.000000   21705.000000     728.000000   \n",
              "\n",
              "                 C16            C17            C18            C19  \\\n",
              "count  100000.000000  100000.000000  100000.000000  100000.000000   \n",
              "mean       56.818920    1964.034380       0.789350     131.734480   \n",
              "std        36.924104     394.962696       1.223761     244.076787   \n",
              "min        20.000000     112.000000       0.000000      33.000000   \n",
              "25%        50.000000    1722.000000       0.000000      35.000000   \n",
              "50%        50.000000    1993.000000       0.000000      35.000000   \n",
              "75%        50.000000    2306.000000       2.000000      39.000000   \n",
              "max       480.000000    2497.000000       3.000000    1835.000000   \n",
              "\n",
              "                 C20            C21  \n",
              "count  100000.000000  100000.000000  \n",
              "mean    37874.227610      88.555670  \n",
              "std     48546.274316      45.482841  \n",
              "min        -1.000000      13.000000  \n",
              "25%        -1.000000      61.000000  \n",
              "50%        -1.000000      79.000000  \n",
              "75%    100083.000000     156.000000  \n",
              "max    100248.000000     157.000000  "
            ]
          },
          "metadata": {
            "tags": []
          },
          "execution_count": 5
        }
      ]
    },
    {
      "metadata": {
        "id": "9nwyqsCeOrHK",
        "colab_type": "code",
        "outputId": "22e23d14-ec9f-4c7e-e0e5-f03c57b5ff7e",
        "colab": {
          "base_uri": "https://localhost:8080/",
          "height": 233
        }
      },
      "cell_type": "code",
      "source": [
        "train_data.head()"
      ],
      "execution_count": 0,
      "outputs": [
        {
          "output_type": "execute_result",
          "data": {
            "text/html": [
              "<div>\n",
              "<style scoped>\n",
              "    .dataframe tbody tr th:only-of-type {\n",
              "        vertical-align: middle;\n",
              "    }\n",
              "\n",
              "    .dataframe tbody tr th {\n",
              "        vertical-align: top;\n",
              "    }\n",
              "\n",
              "    .dataframe thead th {\n",
              "        text-align: right;\n",
              "    }\n",
              "</style>\n",
              "<table border=\"1\" class=\"dataframe\">\n",
              "  <thead>\n",
              "    <tr style=\"text-align: right;\">\n",
              "      <th></th>\n",
              "      <th>id</th>\n",
              "      <th>click</th>\n",
              "      <th>hour</th>\n",
              "      <th>C1</th>\n",
              "      <th>banner_pos</th>\n",
              "      <th>site_id</th>\n",
              "      <th>site_domain</th>\n",
              "      <th>site_category</th>\n",
              "      <th>app_id</th>\n",
              "      <th>app_domain</th>\n",
              "      <th>...</th>\n",
              "      <th>device_type</th>\n",
              "      <th>device_conn_type</th>\n",
              "      <th>C14</th>\n",
              "      <th>C15</th>\n",
              "      <th>C16</th>\n",
              "      <th>C17</th>\n",
              "      <th>C18</th>\n",
              "      <th>C19</th>\n",
              "      <th>C20</th>\n",
              "      <th>C21</th>\n",
              "    </tr>\n",
              "  </thead>\n",
              "  <tbody>\n",
              "    <tr>\n",
              "      <th>0</th>\n",
              "      <td>1.000009e+18</td>\n",
              "      <td>0</td>\n",
              "      <td>2014-10-21</td>\n",
              "      <td>1005</td>\n",
              "      <td>0</td>\n",
              "      <td>1fbe01fe</td>\n",
              "      <td>f3845767</td>\n",
              "      <td>28905ebd</td>\n",
              "      <td>ecad2386</td>\n",
              "      <td>7801e8d9</td>\n",
              "      <td>...</td>\n",
              "      <td>1</td>\n",
              "      <td>2</td>\n",
              "      <td>15706</td>\n",
              "      <td>320</td>\n",
              "      <td>50</td>\n",
              "      <td>1722</td>\n",
              "      <td>0</td>\n",
              "      <td>35</td>\n",
              "      <td>-1</td>\n",
              "      <td>79</td>\n",
              "    </tr>\n",
              "    <tr>\n",
              "      <th>1</th>\n",
              "      <td>1.000017e+19</td>\n",
              "      <td>0</td>\n",
              "      <td>2014-10-21</td>\n",
              "      <td>1005</td>\n",
              "      <td>0</td>\n",
              "      <td>1fbe01fe</td>\n",
              "      <td>f3845767</td>\n",
              "      <td>28905ebd</td>\n",
              "      <td>ecad2386</td>\n",
              "      <td>7801e8d9</td>\n",
              "      <td>...</td>\n",
              "      <td>1</td>\n",
              "      <td>0</td>\n",
              "      <td>15704</td>\n",
              "      <td>320</td>\n",
              "      <td>50</td>\n",
              "      <td>1722</td>\n",
              "      <td>0</td>\n",
              "      <td>35</td>\n",
              "      <td>100084</td>\n",
              "      <td>79</td>\n",
              "    </tr>\n",
              "    <tr>\n",
              "      <th>2</th>\n",
              "      <td>1.000037e+19</td>\n",
              "      <td>0</td>\n",
              "      <td>2014-10-21</td>\n",
              "      <td>1005</td>\n",
              "      <td>0</td>\n",
              "      <td>1fbe01fe</td>\n",
              "      <td>f3845767</td>\n",
              "      <td>28905ebd</td>\n",
              "      <td>ecad2386</td>\n",
              "      <td>7801e8d9</td>\n",
              "      <td>...</td>\n",
              "      <td>1</td>\n",
              "      <td>0</td>\n",
              "      <td>15704</td>\n",
              "      <td>320</td>\n",
              "      <td>50</td>\n",
              "      <td>1722</td>\n",
              "      <td>0</td>\n",
              "      <td>35</td>\n",
              "      <td>100084</td>\n",
              "      <td>79</td>\n",
              "    </tr>\n",
              "    <tr>\n",
              "      <th>3</th>\n",
              "      <td>1.000064e+19</td>\n",
              "      <td>0</td>\n",
              "      <td>2014-10-21</td>\n",
              "      <td>1005</td>\n",
              "      <td>0</td>\n",
              "      <td>1fbe01fe</td>\n",
              "      <td>f3845767</td>\n",
              "      <td>28905ebd</td>\n",
              "      <td>ecad2386</td>\n",
              "      <td>7801e8d9</td>\n",
              "      <td>...</td>\n",
              "      <td>1</td>\n",
              "      <td>0</td>\n",
              "      <td>15706</td>\n",
              "      <td>320</td>\n",
              "      <td>50</td>\n",
              "      <td>1722</td>\n",
              "      <td>0</td>\n",
              "      <td>35</td>\n",
              "      <td>100084</td>\n",
              "      <td>79</td>\n",
              "    </tr>\n",
              "    <tr>\n",
              "      <th>4</th>\n",
              "      <td>1.000068e+19</td>\n",
              "      <td>0</td>\n",
              "      <td>2014-10-21</td>\n",
              "      <td>1005</td>\n",
              "      <td>1</td>\n",
              "      <td>fe8cc448</td>\n",
              "      <td>9166c161</td>\n",
              "      <td>0569f928</td>\n",
              "      <td>ecad2386</td>\n",
              "      <td>7801e8d9</td>\n",
              "      <td>...</td>\n",
              "      <td>1</td>\n",
              "      <td>0</td>\n",
              "      <td>18993</td>\n",
              "      <td>320</td>\n",
              "      <td>50</td>\n",
              "      <td>2161</td>\n",
              "      <td>0</td>\n",
              "      <td>35</td>\n",
              "      <td>-1</td>\n",
              "      <td>157</td>\n",
              "    </tr>\n",
              "  </tbody>\n",
              "</table>\n",
              "<p>5 rows × 24 columns</p>\n",
              "</div>"
            ],
            "text/plain": [
              "             id  click       hour    C1  banner_pos   site_id site_domain  \\\n",
              "0  1.000009e+18      0 2014-10-21  1005           0  1fbe01fe    f3845767   \n",
              "1  1.000017e+19      0 2014-10-21  1005           0  1fbe01fe    f3845767   \n",
              "2  1.000037e+19      0 2014-10-21  1005           0  1fbe01fe    f3845767   \n",
              "3  1.000064e+19      0 2014-10-21  1005           0  1fbe01fe    f3845767   \n",
              "4  1.000068e+19      0 2014-10-21  1005           1  fe8cc448    9166c161   \n",
              "\n",
              "  site_category    app_id app_domain ...  device_type device_conn_type    C14  \\\n",
              "0      28905ebd  ecad2386   7801e8d9 ...            1                2  15706   \n",
              "1      28905ebd  ecad2386   7801e8d9 ...            1                0  15704   \n",
              "2      28905ebd  ecad2386   7801e8d9 ...            1                0  15704   \n",
              "3      28905ebd  ecad2386   7801e8d9 ...            1                0  15706   \n",
              "4      0569f928  ecad2386   7801e8d9 ...            1                0  18993   \n",
              "\n",
              "   C15  C16   C17  C18  C19     C20  C21  \n",
              "0  320   50  1722    0   35      -1   79  \n",
              "1  320   50  1722    0   35  100084   79  \n",
              "2  320   50  1722    0   35  100084   79  \n",
              "3  320   50  1722    0   35  100084   79  \n",
              "4  320   50  2161    0   35      -1  157  \n",
              "\n",
              "[5 rows x 24 columns]"
            ]
          },
          "metadata": {
            "tags": []
          },
          "execution_count": 6
        }
      ]
    },
    {
      "metadata": {
        "id": "MIUv3T8WPZbm",
        "colab_type": "code",
        "outputId": "0ff9a8bc-0f8f-4023-a5fa-483931b4aad7",
        "colab": {
          "base_uri": "https://localhost:8080/",
          "height": 410
        }
      },
      "cell_type": "code",
      "source": [
        "# Click v/s No click distribution\n",
        "train_data.groupby('click').size().plot(kind = 'bar')\n",
        "rows = train_data.shape[0]\n",
        "click_through_rate = train_data['click'].value_counts()/rows \n",
        "click_through_rate"
      ],
      "execution_count": 0,
      "outputs": [
        {
          "output_type": "execute_result",
          "data": {
            "text/plain": [
              "0    0.8251\n",
              "1    0.1749\n",
              "Name: click, dtype: float64"
            ]
          },
          "metadata": {
            "tags": []
          },
          "execution_count": 66
        },
        {
          "output_type": "display_data",
          "data": {
            "image/png": "[encoded data removed]",
            "text/plain": [
              "<Figure size 576x396 with 1 Axes>"
            ]
          },
          "metadata": {
            "tags": []
          }
        }
      ]
    },
    {
      "metadata": {
        "id": "RexStJgTP7bS",
        "colab_type": "code",
        "outputId": "77b000f0-83ef-48fb-ac4a-21c9bd9018ac",
        "colab": {
          "base_uri": "https://localhost:8080/",
          "height": 136
        }
      },
      "cell_type": "code",
      "source": [
        "# For illustration purpose, I only choose data from a single day...\n",
        "# Hence, not a good metric for CTR in this example.\n",
        "train_data.hour.describe() "
      ],
      "execution_count": 0,
      "outputs": [
        {
          "output_type": "execute_result",
          "data": {
            "text/plain": [
              "count                  100000\n",
              "unique                      1\n",
              "top       2014-10-21 00:00:00\n",
              "freq                   100000\n",
              "first     2014-10-21 00:00:00\n",
              "last      2014-10-21 00:00:00\n",
              "Name: hour, dtype: object"
            ]
          },
          "metadata": {
            "tags": []
          },
          "execution_count": 67
        }
      ]
    },
    {
      "metadata": {
        "id": "2YrsXuvSS1JO",
        "colab_type": "code",
        "outputId": "55cf28b7-713d-4b9a-873c-364a536082f7",
        "colab": {
          "base_uri": "https://localhost:8080/",
          "height": 34
        }
      },
      "cell_type": "code",
      "source": [
        "# banner position\n",
        "\"\"\"Banner positions representing attractive and appealing designs that might highly \n",
        "affect a user's behavior and in turn trigger their decision to click. Or not. \n",
        "Hence making it an effective metric to predict clicks\"\"\"\n",
        "train_data['banner_pos'].unique()"
      ],
      "execution_count": 0,
      "outputs": [
        {
          "output_type": "execute_result",
          "data": {
            "text/plain": [
              "array([0, 1, 4, 5, 2])"
            ]
          },
          "metadata": {
            "tags": []
          },
          "execution_count": 68
        }
      ]
    },
    {
      "metadata": {
        "id": "ixDBpf0sTMvW",
        "colab_type": "code",
        "outputId": "5532ae17-9cf8-4e24-c12f-5d60ec126816",
        "colab": {
          "base_uri": "https://localhost:8080/",
          "height": 393
        }
      },
      "cell_type": "code",
      "source": [
        "banner_temp =train_data[['banner_pos','click']].groupby(['banner_pos','click'])\n",
        "\n",
        "banner_temp.size().unstack().plot(kind='bar',stacked=True, title='banner positions')"
      ],
      "execution_count": 0,
      "outputs": [
        {
          "output_type": "execute_result",
          "data": {
            "text/plain": [
              "<matplotlib.axes._subplots.AxesSubplot at 0x7fa36c869588>"
            ]
          },
          "metadata": {
            "tags": []
          },
          "execution_count": 69
        },
        {
          "output_type": "display_data",
          "data": {
            "image/png": "[encoded data removed]",
            "text/plain": [
              "<Figure size 576x396 with 1 Axes>"
            ]
          },
          "metadata": {
            "tags": []
          }
        }
      ]
    },
    {
      "metadata": {
        "id": "umWrPiTqTY_b",
        "colab_type": "code",
        "outputId": "70fdced9-792d-4cb5-ad0c-a7fe3060a530",
        "colab": {
          "base_uri": "https://localhost:8080/",
          "height": 235
        }
      },
      "cell_type": "code",
      "source": [
        "train_data[['banner_pos','click']].groupby(['banner_pos']).count().sort_values('click',ascending=False)"
      ],
      "execution_count": 0,
      "outputs": [
        {
          "output_type": "execute_result",
          "data": {
            "text/html": [
              "<div>\n",
              "<style scoped>\n",
              "    .dataframe tbody tr th:only-of-type {\n",
              "        vertical-align: middle;\n",
              "    }\n",
              "\n",
              "    .dataframe tbody tr th {\n",
              "        vertical-align: top;\n",
              "    }\n",
              "\n",
              "    .dataframe thead th {\n",
              "        text-align: right;\n",
              "    }\n",
              "</style>\n",
              "<table border=\"1\" class=\"dataframe\">\n",
              "  <thead>\n",
              "    <tr style=\"text-align: right;\">\n",
              "      <th></th>\n",
              "      <th>click</th>\n",
              "    </tr>\n",
              "    <tr>\n",
              "      <th>banner_pos</th>\n",
              "      <th></th>\n",
              "    </tr>\n",
              "  </thead>\n",
              "  <tbody>\n",
              "    <tr>\n",
              "      <th>0</th>\n",
              "      <td>80249</td>\n",
              "    </tr>\n",
              "    <tr>\n",
              "      <th>1</th>\n",
              "      <td>19714</td>\n",
              "    </tr>\n",
              "    <tr>\n",
              "      <th>2</th>\n",
              "      <td>21</td>\n",
              "    </tr>\n",
              "    <tr>\n",
              "      <th>5</th>\n",
              "      <td>10</td>\n",
              "    </tr>\n",
              "    <tr>\n",
              "      <th>4</th>\n",
              "      <td>6</td>\n",
              "    </tr>\n",
              "  </tbody>\n",
              "</table>\n",
              "</div>"
            ],
            "text/plain": [
              "            click\n",
              "banner_pos       \n",
              "0           80249\n",
              "1           19714\n",
              "2              21\n",
              "5              10\n",
              "4               6"
            ]
          },
          "metadata": {
            "tags": []
          },
          "execution_count": 70
        }
      ]
    },
    {
      "metadata": {
        "id": "W-8XuxZoTpkz",
        "colab_type": "code",
        "outputId": "dbcdd3c2-3508-46af-ea5b-f4af25526399",
        "colab": {
          "base_uri": "https://localhost:8080/",
          "height": 204
        }
      },
      "cell_type": "code",
      "source": [
        "banner_df = pd.DataFrame()\n",
        "banner_df['position'] = train_data_clicks[['banner_pos','click']].groupby(['banner_pos']).count().reset_index().sort_values('click',ascending=False)['banner_pos']\n",
        "banner_df['pos_clicks'] = train_data_clicks[['banner_pos','click']].groupby(['banner_pos']).count().reset_index().sort_values('click',ascending=False)['click']\n",
        "banner_df['total_impressions'] = train_data[['banner_pos','click']].groupby(['banner_pos']).count().reset_index().sort_values('click',ascending=False)['click']\n",
        "banner_df['click_pct'] = 100*banner_df['pos_clicks']/banner_df['total_impressions']\n",
        "banner_df"
      ],
      "execution_count": 0,
      "outputs": [
        {
          "output_type": "execute_result",
          "data": {
            "text/html": [
              "<div>\n",
              "<style scoped>\n",
              "    .dataframe tbody tr th:only-of-type {\n",
              "        vertical-align: middle;\n",
              "    }\n",
              "\n",
              "    .dataframe tbody tr th {\n",
              "        vertical-align: top;\n",
              "    }\n",
              "\n",
              "    .dataframe thead th {\n",
              "        text-align: right;\n",
              "    }\n",
              "</style>\n",
              "<table border=\"1\" class=\"dataframe\">\n",
              "  <thead>\n",
              "    <tr style=\"text-align: right;\">\n",
              "      <th></th>\n",
              "      <th>position</th>\n",
              "      <th>pos_clicks</th>\n",
              "      <th>total_impressions</th>\n",
              "      <th>click_pct</th>\n",
              "    </tr>\n",
              "  </thead>\n",
              "  <tbody>\n",
              "    <tr>\n",
              "      <th>0</th>\n",
              "      <td>0</td>\n",
              "      <td>13599</td>\n",
              "      <td>80249</td>\n",
              "      <td>16.946006</td>\n",
              "    </tr>\n",
              "    <tr>\n",
              "      <th>1</th>\n",
              "      <td>1</td>\n",
              "      <td>3883</td>\n",
              "      <td>19714</td>\n",
              "      <td>19.696662</td>\n",
              "    </tr>\n",
              "    <tr>\n",
              "      <th>4</th>\n",
              "      <td>5</td>\n",
              "      <td>4</td>\n",
              "      <td>10</td>\n",
              "      <td>40.000000</td>\n",
              "    </tr>\n",
              "    <tr>\n",
              "      <th>2</th>\n",
              "      <td>2</td>\n",
              "      <td>3</td>\n",
              "      <td>21</td>\n",
              "      <td>14.285714</td>\n",
              "    </tr>\n",
              "    <tr>\n",
              "      <th>3</th>\n",
              "      <td>4</td>\n",
              "      <td>1</td>\n",
              "      <td>6</td>\n",
              "      <td>16.666667</td>\n",
              "    </tr>\n",
              "  </tbody>\n",
              "</table>\n",
              "</div>"
            ],
            "text/plain": [
              "   position  pos_clicks  total_impressions  click_pct\n",
              "0         0       13599              80249  16.946006\n",
              "1         1        3883              19714  19.696662\n",
              "4         5           4                 10  40.000000\n",
              "2         2           3                 21  14.285714\n",
              "3         4           1                  6  16.666667"
            ]
          },
          "metadata": {
            "tags": []
          },
          "execution_count": 71
        }
      ]
    },
    {
      "metadata": {
        "id": "UlWVKWqFUhyn",
        "colab_type": "code",
        "outputId": "14c8a85a-b06d-4a78-bb47-8b137d493cf6",
        "colab": {
          "base_uri": "https://localhost:8080/",
          "height": 204
        }
      },
      "cell_type": "code",
      "source": [
        "banner_df.sort_values(ascending=False,by='click_pct')"
      ],
      "execution_count": 0,
      "outputs": [
        {
          "output_type": "execute_result",
          "data": {
            "text/html": [
              "<div>\n",
              "<style scoped>\n",
              "    .dataframe tbody tr th:only-of-type {\n",
              "        vertical-align: middle;\n",
              "    }\n",
              "\n",
              "    .dataframe tbody tr th {\n",
              "        vertical-align: top;\n",
              "    }\n",
              "\n",
              "    .dataframe thead th {\n",
              "        text-align: right;\n",
              "    }\n",
              "</style>\n",
              "<table border=\"1\" class=\"dataframe\">\n",
              "  <thead>\n",
              "    <tr style=\"text-align: right;\">\n",
              "      <th></th>\n",
              "      <th>position</th>\n",
              "      <th>pos_clicks</th>\n",
              "      <th>total_impressions</th>\n",
              "      <th>click_pct</th>\n",
              "    </tr>\n",
              "  </thead>\n",
              "  <tbody>\n",
              "    <tr>\n",
              "      <th>4</th>\n",
              "      <td>5</td>\n",
              "      <td>4</td>\n",
              "      <td>10</td>\n",
              "      <td>40.000000</td>\n",
              "    </tr>\n",
              "    <tr>\n",
              "      <th>1</th>\n",
              "      <td>1</td>\n",
              "      <td>3883</td>\n",
              "      <td>19714</td>\n",
              "      <td>19.696662</td>\n",
              "    </tr>\n",
              "    <tr>\n",
              "      <th>0</th>\n",
              "      <td>0</td>\n",
              "      <td>13599</td>\n",
              "      <td>80249</td>\n",
              "      <td>16.946006</td>\n",
              "    </tr>\n",
              "    <tr>\n",
              "      <th>3</th>\n",
              "      <td>4</td>\n",
              "      <td>1</td>\n",
              "      <td>6</td>\n",
              "      <td>16.666667</td>\n",
              "    </tr>\n",
              "    <tr>\n",
              "      <th>2</th>\n",
              "      <td>2</td>\n",
              "      <td>3</td>\n",
              "      <td>21</td>\n",
              "      <td>14.285714</td>\n",
              "    </tr>\n",
              "  </tbody>\n",
              "</table>\n",
              "</div>"
            ],
            "text/plain": [
              "   position  pos_clicks  total_impressions  click_pct\n",
              "4         5           4                 10  40.000000\n",
              "1         1        3883              19714  19.696662\n",
              "0         0       13599              80249  16.946006\n",
              "3         4           1                  6  16.666667\n",
              "2         2           3                 21  14.285714"
            ]
          },
          "metadata": {
            "tags": []
          },
          "execution_count": 72
        }
      ]
    },
    {
      "metadata": {
        "id": "gekdcqlWVWZt",
        "colab_type": "code",
        "outputId": "0aa0d8b7-5a72-4c73-a1cb-391c27953b41",
        "colab": {
          "base_uri": "https://localhost:8080/",
          "height": 393
        }
      },
      "cell_type": "code",
      "source": [
        "# Device type metric\n",
        "device_temp = train_data[['device_type','click']].groupby(['device_type','click'])\n",
        "device_temp.size().unstack().plot(kind='bar',stacked=True, title='device types')"
      ],
      "execution_count": 0,
      "outputs": [
        {
          "output_type": "execute_result",
          "data": {
            "text/plain": [
              "<matplotlib.axes._subplots.AxesSubplot at 0x7fa368a3b048>"
            ]
          },
          "metadata": {
            "tags": []
          },
          "execution_count": 73
        },
        {
          "output_type": "display_data",
          "data": {
            "image/png": "[encoded data removed]",
            "text/plain": [
              "<Figure size 576x396 with 1 Axes>"
            ]
          },
          "metadata": {
            "tags": []
          }
        }
      ]
    },
    {
      "metadata": {
        "id": "gbbfH0N5VncV",
        "colab_type": "code",
        "outputId": "e6855b94-d244-43db-8eda-098a9b35d888",
        "colab": {
          "base_uri": "https://localhost:8080/",
          "height": 204
        }
      },
      "cell_type": "code",
      "source": [
        "train_data[['device_type','click']].groupby(['device_type']).count().sort_values('click',ascending=False)"
      ],
      "execution_count": 0,
      "outputs": [
        {
          "output_type": "execute_result",
          "data": {
            "text/html": [
              "<div>\n",
              "<style scoped>\n",
              "    .dataframe tbody tr th:only-of-type {\n",
              "        vertical-align: middle;\n",
              "    }\n",
              "\n",
              "    .dataframe tbody tr th {\n",
              "        vertical-align: top;\n",
              "    }\n",
              "\n",
              "    .dataframe thead th {\n",
              "        text-align: right;\n",
              "    }\n",
              "</style>\n",
              "<table border=\"1\" class=\"dataframe\">\n",
              "  <thead>\n",
              "    <tr style=\"text-align: right;\">\n",
              "      <th></th>\n",
              "      <th>click</th>\n",
              "    </tr>\n",
              "    <tr>\n",
              "      <th>device_type</th>\n",
              "      <th></th>\n",
              "    </tr>\n",
              "  </thead>\n",
              "  <tbody>\n",
              "    <tr>\n",
              "      <th>1</th>\n",
              "      <td>92597</td>\n",
              "    </tr>\n",
              "    <tr>\n",
              "      <th>0</th>\n",
              "      <td>4212</td>\n",
              "    </tr>\n",
              "    <tr>\n",
              "      <th>4</th>\n",
              "      <td>2979</td>\n",
              "    </tr>\n",
              "    <tr>\n",
              "      <th>5</th>\n",
              "      <td>212</td>\n",
              "    </tr>\n",
              "  </tbody>\n",
              "</table>\n",
              "</div>"
            ],
            "text/plain": [
              "             click\n",
              "device_type       \n",
              "1            92597\n",
              "0             4212\n",
              "4             2979\n",
              "5              212"
            ]
          },
          "metadata": {
            "tags": []
          },
          "execution_count": 74
        }
      ]
    },
    {
      "metadata": {
        "id": "xBIvDugYV99l",
        "colab_type": "code",
        "outputId": "f398d126-f846-46f9-8d9a-b3a4d1c2475a",
        "colab": {
          "base_uri": "https://localhost:8080/",
          "height": 393
        }
      },
      "cell_type": "code",
      "source": [
        "train_data_clicks[['device_type','click']].groupby(['device_type','click']).size().unstack().plot(kind='bar',stacked=True, title='device types')"
      ],
      "execution_count": 0,
      "outputs": [
        {
          "output_type": "execute_result",
          "data": {
            "text/plain": [
              "<matplotlib.axes._subplots.AxesSubplot at 0x7fa3689d5588>"
            ]
          },
          "metadata": {
            "tags": []
          },
          "execution_count": 75
        },
        {
          "output_type": "display_data",
          "data": {
            "image/png": "[encoded data removed]",
            "text/plain": [
              "<Figure size 576x396 with 1 Axes>"
            ]
          },
          "metadata": {
            "tags": []
          }
        }
      ]
    },
    {
      "metadata": {
        "id": "d6X7Z9jeWq-U",
        "colab_type": "code",
        "outputId": "0ffebf25-739b-4a4b-d565-e35dfbde6aaa",
        "colab": {
          "base_uri": "https://localhost:8080/",
          "height": 173
        }
      },
      "cell_type": "code",
      "source": [
        "dev_type_df = train_data_clicks.groupby('device_type').agg({'click':'sum'}).reset_index()\n",
        "dev_type_df_total_imp = train_data.groupby('device_type').agg({'click':'count'}).reset_index()\n",
        "dev_type_df['total_impressions'] = dev_type_df_total_imp['click']\n",
        "dev_type_df['success_pct'] = (dev_type_df['click']/dev_type_df['total_impressions'])*100\n",
        "dev_type_df"
      ],
      "execution_count": 0,
      "outputs": [
        {
          "output_type": "execute_result",
          "data": {
            "text/html": [
              "<div>\n",
              "<style scoped>\n",
              "    .dataframe tbody tr th:only-of-type {\n",
              "        vertical-align: middle;\n",
              "    }\n",
              "\n",
              "    .dataframe tbody tr th {\n",
              "        vertical-align: top;\n",
              "    }\n",
              "\n",
              "    .dataframe thead th {\n",
              "        text-align: right;\n",
              "    }\n",
              "</style>\n",
              "<table border=\"1\" class=\"dataframe\">\n",
              "  <thead>\n",
              "    <tr style=\"text-align: right;\">\n",
              "      <th></th>\n",
              "      <th>device_type</th>\n",
              "      <th>click</th>\n",
              "      <th>total_impressions</th>\n",
              "      <th>success_pct</th>\n",
              "    </tr>\n",
              "  </thead>\n",
              "  <tbody>\n",
              "    <tr>\n",
              "      <th>0</th>\n",
              "      <td>0</td>\n",
              "      <td>958</td>\n",
              "      <td>4212</td>\n",
              "      <td>22.744539</td>\n",
              "    </tr>\n",
              "    <tr>\n",
              "      <th>1</th>\n",
              "      <td>1</td>\n",
              "      <td>16295</td>\n",
              "      <td>92597</td>\n",
              "      <td>17.597762</td>\n",
              "    </tr>\n",
              "    <tr>\n",
              "      <th>2</th>\n",
              "      <td>4</td>\n",
              "      <td>216</td>\n",
              "      <td>2979</td>\n",
              "      <td>7.250755</td>\n",
              "    </tr>\n",
              "    <tr>\n",
              "      <th>3</th>\n",
              "      <td>5</td>\n",
              "      <td>21</td>\n",
              "      <td>212</td>\n",
              "      <td>9.905660</td>\n",
              "    </tr>\n",
              "  </tbody>\n",
              "</table>\n",
              "</div>"
            ],
            "text/plain": [
              "   device_type  click  total_impressions  success_pct\n",
              "0            0    958               4212    22.744539\n",
              "1            1  16295              92597    17.597762\n",
              "2            4    216               2979     7.250755\n",
              "3            5     21                212     9.905660"
            ]
          },
          "metadata": {
            "tags": []
          },
          "execution_count": 76
        }
      ]
    },
    {
      "metadata": {
        "id": "k3tNEfFkYQUU",
        "colab_type": "code",
        "outputId": "8f30315e-35c7-4fed-ce95-8d7b9084c450",
        "colab": {
          "base_uri": "https://localhost:8080/",
          "height": 669
        }
      },
      "cell_type": "code",
      "source": [
        "# App Related Metrics\n",
        "app_features = ['app_id', 'app_domain', 'app_category']\n",
        "train_data.groupby('app_category').agg({'click':'sum'}).sort_values(by='click',ascending = False)"
      ],
      "execution_count": 0,
      "outputs": [
        {
          "output_type": "execute_result",
          "data": {
            "text/html": [
              "<div>\n",
              "<style scoped>\n",
              "    .dataframe tbody tr th:only-of-type {\n",
              "        vertical-align: middle;\n",
              "    }\n",
              "\n",
              "    .dataframe tbody tr th {\n",
              "        vertical-align: top;\n",
              "    }\n",
              "\n",
              "    .dataframe thead th {\n",
              "        text-align: right;\n",
              "    }\n",
              "</style>\n",
              "<table border=\"1\" class=\"dataframe\">\n",
              "  <thead>\n",
              "    <tr style=\"text-align: right;\">\n",
              "      <th></th>\n",
              "      <th>click</th>\n",
              "    </tr>\n",
              "    <tr>\n",
              "      <th>app_category</th>\n",
              "      <th></th>\n",
              "    </tr>\n",
              "  </thead>\n",
              "  <tbody>\n",
              "    <tr>\n",
              "      <th>07d7df22</th>\n",
              "      <td>15297</td>\n",
              "    </tr>\n",
              "    <tr>\n",
              "      <th>0f2161f8</th>\n",
              "      <td>1514</td>\n",
              "    </tr>\n",
              "    <tr>\n",
              "      <th>f95efa07</th>\n",
              "      <td>445</td>\n",
              "    </tr>\n",
              "    <tr>\n",
              "      <th>8ded1f7a</th>\n",
              "      <td>109</td>\n",
              "    </tr>\n",
              "    <tr>\n",
              "      <th>cef3e649</th>\n",
              "      <td>57</td>\n",
              "    </tr>\n",
              "    <tr>\n",
              "      <th>d1327cf5</th>\n",
              "      <td>23</td>\n",
              "    </tr>\n",
              "    <tr>\n",
              "      <th>75d80bbe</th>\n",
              "      <td>14</td>\n",
              "    </tr>\n",
              "    <tr>\n",
              "      <th>dc97ec06</th>\n",
              "      <td>13</td>\n",
              "    </tr>\n",
              "    <tr>\n",
              "      <th>4ce2e9fc</th>\n",
              "      <td>7</td>\n",
              "    </tr>\n",
              "    <tr>\n",
              "      <th>09481d60</th>\n",
              "      <td>4</td>\n",
              "    </tr>\n",
              "    <tr>\n",
              "      <th>879c24eb</th>\n",
              "      <td>3</td>\n",
              "    </tr>\n",
              "    <tr>\n",
              "      <th>7113d72a</th>\n",
              "      <td>1</td>\n",
              "    </tr>\n",
              "    <tr>\n",
              "      <th>a86a3e89</th>\n",
              "      <td>1</td>\n",
              "    </tr>\n",
              "    <tr>\n",
              "      <th>0f9a328c</th>\n",
              "      <td>1</td>\n",
              "    </tr>\n",
              "    <tr>\n",
              "      <th>fc6fa53d</th>\n",
              "      <td>1</td>\n",
              "    </tr>\n",
              "    <tr>\n",
              "      <th>4681bb9d</th>\n",
              "      <td>0</td>\n",
              "    </tr>\n",
              "    <tr>\n",
              "      <th>8df2e842</th>\n",
              "      <td>0</td>\n",
              "    </tr>\n",
              "    <tr>\n",
              "      <th>a3c42688</th>\n",
              "      <td>0</td>\n",
              "    </tr>\n",
              "    <tr>\n",
              "      <th>a7fd01ec</th>\n",
              "      <td>0</td>\n",
              "    </tr>\n",
              "  </tbody>\n",
              "</table>\n",
              "</div>"
            ],
            "text/plain": [
              "              click\n",
              "app_category       \n",
              "07d7df22      15297\n",
              "0f2161f8       1514\n",
              "f95efa07        445\n",
              "8ded1f7a        109\n",
              "cef3e649         57\n",
              "d1327cf5         23\n",
              "75d80bbe         14\n",
              "dc97ec06         13\n",
              "4ce2e9fc          7\n",
              "09481d60          4\n",
              "879c24eb          3\n",
              "7113d72a          1\n",
              "a86a3e89          1\n",
              "0f9a328c          1\n",
              "fc6fa53d          1\n",
              "4681bb9d          0\n",
              "8df2e842          0\n",
              "a3c42688          0\n",
              "a7fd01ec          0"
            ]
          },
          "metadata": {
            "tags": []
          },
          "execution_count": 77
        }
      ]
    },
    {
      "metadata": {
        "id": "Fo52rFKRYkVR",
        "colab_type": "code",
        "outputId": "12130ed3-1389-4b25-cb03-18c39eda0629",
        "colab": {
          "base_uri": "https://localhost:8080/",
          "height": 432
        }
      },
      "cell_type": "code",
      "source": [
        "# Clicks behavior across different app categories\n",
        "train_app_category = train_data.groupby(['app_category', 'click']).size().unstack()\n",
        "train_app_category.div(train_app_category.sum(axis=1), axis=0).plot(kind='bar', stacked=True, title=\"Intra-category CTR\")"
      ],
      "execution_count": 0,
      "outputs": [
        {
          "output_type": "execute_result",
          "data": {
            "text/plain": [
              "<matplotlib.axes._subplots.AxesSubplot at 0x7fa3689aa1d0>"
            ]
          },
          "metadata": {
            "tags": []
          },
          "execution_count": 78
        },
        {
          "output_type": "display_data",
          "data": {
            "image/png": "[encoded data removed]",
            "text/plain": [
              "<Figure size 576x396 with 1 Axes>"
            ]
          },
          "metadata": {
            "tags": []
          }
        }
      ]
    },
    {
      "metadata": {
        "id": "3vELygz1Y5M7",
        "colab_type": "code",
        "outputId": "e47fcdf2-0df1-480b-c32c-0a264a2fa1e0",
        "colab": {
          "base_uri": "https://localhost:8080/",
          "height": 173
        }
      },
      "cell_type": "code",
      "source": [
        "# C1, C14-C21 features\n",
        "features = ['C1', 'C14', 'C15', 'C16', 'C17', 'C18',\n",
        "            'C20', 'C21']\n",
        "train_data[features].astype('object').describe()"
      ],
      "execution_count": 0,
      "outputs": [
        {
          "output_type": "execute_result",
          "data": {
            "text/html": [
              "<div>\n",
              "<style scoped>\n",
              "    .dataframe tbody tr th:only-of-type {\n",
              "        vertical-align: middle;\n",
              "    }\n",
              "\n",
              "    .dataframe tbody tr th {\n",
              "        vertical-align: top;\n",
              "    }\n",
              "\n",
              "    .dataframe thead th {\n",
              "        text-align: right;\n",
              "    }\n",
              "</style>\n",
              "<table border=\"1\" class=\"dataframe\">\n",
              "  <thead>\n",
              "    <tr style=\"text-align: right;\">\n",
              "      <th></th>\n",
              "      <th>C1</th>\n",
              "      <th>C14</th>\n",
              "      <th>C15</th>\n",
              "      <th>C16</th>\n",
              "      <th>C17</th>\n",
              "      <th>C18</th>\n",
              "      <th>C20</th>\n",
              "      <th>C21</th>\n",
              "    </tr>\n",
              "  </thead>\n",
              "  <tbody>\n",
              "    <tr>\n",
              "      <th>count</th>\n",
              "      <td>100000</td>\n",
              "      <td>100000</td>\n",
              "      <td>100000</td>\n",
              "      <td>100000</td>\n",
              "      <td>100000</td>\n",
              "      <td>100000</td>\n",
              "      <td>100000</td>\n",
              "      <td>100000</td>\n",
              "    </tr>\n",
              "    <tr>\n",
              "      <th>unique</th>\n",
              "      <td>6</td>\n",
              "      <td>420</td>\n",
              "      <td>5</td>\n",
              "      <td>6</td>\n",
              "      <td>128</td>\n",
              "      <td>4</td>\n",
              "      <td>137</td>\n",
              "      <td>29</td>\n",
              "    </tr>\n",
              "    <tr>\n",
              "      <th>top</th>\n",
              "      <td>1005</td>\n",
              "      <td>20596</td>\n",
              "      <td>320</td>\n",
              "      <td>50</td>\n",
              "      <td>1722</td>\n",
              "      <td>0</td>\n",
              "      <td>-1</td>\n",
              "      <td>79</td>\n",
              "    </tr>\n",
              "    <tr>\n",
              "      <th>freq</th>\n",
              "      <td>92454</td>\n",
              "      <td>6809</td>\n",
              "      <td>95133</td>\n",
              "      <td>95621</td>\n",
              "      <td>38456</td>\n",
              "      <td>69496</td>\n",
              "      <td>62162</td>\n",
              "      <td>38456</td>\n",
              "    </tr>\n",
              "  </tbody>\n",
              "</table>\n",
              "</div>"
            ],
            "text/plain": [
              "            C1     C14     C15     C16     C17     C18     C20     C21\n",
              "count   100000  100000  100000  100000  100000  100000  100000  100000\n",
              "unique       6     420       5       6     128       4     137      29\n",
              "top       1005   20596     320      50    1722       0      -1      79\n",
              "freq     92454    6809   95133   95621   38456   69496   62162   38456"
            ]
          },
          "metadata": {
            "tags": []
          },
          "execution_count": 7
        }
      ]
    },
    {
      "metadata": {
        "id": "_h0MWPx5ZI6M",
        "colab_type": "code",
        "outputId": "71e344ee-4c46-45c1-8488-5084976fd368",
        "colab": {
          "base_uri": "https://localhost:8080/",
          "height": 393
        }
      },
      "cell_type": "code",
      "source": [
        "# train_data.groupby(['C1', 'click']).size().unstack().plot(kind='bar', stacked=True, title='C1 histogram')\n",
        "# train_data.groupby(['C15', 'click']).size().unstack().plot(kind='bar', stacked=True, title='C1 histogram')\n",
        "# train_data.groupby(['C16', 'click']).size().unstack().plot(kind='bar', stacked=True, title='C1 histogram')\n",
        "train_data.groupby(['C18', 'click']).size().unstack().plot(kind='bar', stacked=True, title='C1 histogram')"
      ],
      "execution_count": 0,
      "outputs": [
        {
          "output_type": "execute_result",
          "data": {
            "text/plain": [
              "<matplotlib.axes._subplots.AxesSubplot at 0x7fa368896710>"
            ]
          },
          "metadata": {
            "tags": []
          },
          "execution_count": 80
        },
        {
          "output_type": "display_data",
          "data": {
            "image/png": "[encoded data removed]",
            "text/plain": [
              "<Figure size 576x396 with 1 Axes>"
            ]
          },
          "metadata": {
            "tags": []
          }
        }
      ]
    },
    {
      "metadata": {
        "id": "px53VkXza1My",
        "colab_type": "code",
        "colab": {}
      },
      "cell_type": "code",
      "source": [
        ""
      ],
      "execution_count": 0,
      "outputs": []
    },
    {
      "metadata": {
        "id": "4hmfNNrfa1Zb",
        "colab_type": "code",
        "colab": {}
      },
      "cell_type": "code",
      "source": [
        "model_features = ['banner_pos', 'site_category', 'device_conn_type', 'app_category','device_type', 'C14', 'C17']\n",
        "model_target = 'click'\n",
        "train_model = train_data[model_features+[model_target]].sample(frac=0.1)"
      ],
      "execution_count": 0,
      "outputs": []
    },
    {
      "metadata": {
        "id": "ZylwU4PWc63i",
        "colab_type": "code",
        "colab": {}
      },
      "cell_type": "code",
      "source": [
        "def one_hot_features(data_frame, feature_set):\n",
        "    new_data_frame = pd.get_dummies(data_frame,\n",
        "                                     columns = feature_set,\n",
        "                                    sparse = True)\n",
        "\n",
        "    return new_data_frame"
      ],
      "execution_count": 0,
      "outputs": []
    },
    {
      "metadata": {
        "id": "gh9h7f0KdA6F",
        "colab_type": "code",
        "outputId": "9b4fe77e-9c50-4645-d98b-42825cc5bdaf",
        "colab": {
          "base_uri": "https://localhost:8080/",
          "height": 233
        }
      },
      "cell_type": "code",
      "source": [
        "train_model = one_hot_features(train_model,\n",
        "                                ['site_category',\n",
        "                                 'app_category',\n",
        "                                 'banner_pos'])\n",
        "train_data.head()"
      ],
      "execution_count": 0,
      "outputs": [
        {
          "output_type": "execute_result",
          "data": {
            "text/html": [
              "<div>\n",
              "<style scoped>\n",
              "    .dataframe tbody tr th:only-of-type {\n",
              "        vertical-align: middle;\n",
              "    }\n",
              "\n",
              "    .dataframe tbody tr th {\n",
              "        vertical-align: top;\n",
              "    }\n",
              "\n",
              "    .dataframe thead th {\n",
              "        text-align: right;\n",
              "    }\n",
              "</style>\n",
              "<table border=\"1\" class=\"dataframe\">\n",
              "  <thead>\n",
              "    <tr style=\"text-align: right;\">\n",
              "      <th></th>\n",
              "      <th>id</th>\n",
              "      <th>click</th>\n",
              "      <th>hour</th>\n",
              "      <th>C1</th>\n",
              "      <th>banner_pos</th>\n",
              "      <th>site_id</th>\n",
              "      <th>site_domain</th>\n",
              "      <th>site_category</th>\n",
              "      <th>app_id</th>\n",
              "      <th>app_domain</th>\n",
              "      <th>...</th>\n",
              "      <th>device_type</th>\n",
              "      <th>device_conn_type</th>\n",
              "      <th>C14</th>\n",
              "      <th>C15</th>\n",
              "      <th>C16</th>\n",
              "      <th>C17</th>\n",
              "      <th>C18</th>\n",
              "      <th>C19</th>\n",
              "      <th>C20</th>\n",
              "      <th>C21</th>\n",
              "    </tr>\n",
              "  </thead>\n",
              "  <tbody>\n",
              "    <tr>\n",
              "      <th>0</th>\n",
              "      <td>1.000009e+18</td>\n",
              "      <td>0</td>\n",
              "      <td>2014-10-21</td>\n",
              "      <td>1005</td>\n",
              "      <td>0</td>\n",
              "      <td>1fbe01fe</td>\n",
              "      <td>f3845767</td>\n",
              "      <td>28905ebd</td>\n",
              "      <td>ecad2386</td>\n",
              "      <td>7801e8d9</td>\n",
              "      <td>...</td>\n",
              "      <td>1</td>\n",
              "      <td>2</td>\n",
              "      <td>15706</td>\n",
              "      <td>320</td>\n",
              "      <td>50</td>\n",
              "      <td>1722</td>\n",
              "      <td>0</td>\n",
              "      <td>35</td>\n",
              "      <td>-1</td>\n",
              "      <td>79</td>\n",
              "    </tr>\n",
              "    <tr>\n",
              "      <th>1</th>\n",
              "      <td>1.000017e+19</td>\n",
              "      <td>0</td>\n",
              "      <td>2014-10-21</td>\n",
              "      <td>1005</td>\n",
              "      <td>0</td>\n",
              "      <td>1fbe01fe</td>\n",
              "      <td>f3845767</td>\n",
              "      <td>28905ebd</td>\n",
              "      <td>ecad2386</td>\n",
              "      <td>7801e8d9</td>\n",
              "      <td>...</td>\n",
              "      <td>1</td>\n",
              "      <td>0</td>\n",
              "      <td>15704</td>\n",
              "      <td>320</td>\n",
              "      <td>50</td>\n",
              "      <td>1722</td>\n",
              "      <td>0</td>\n",
              "      <td>35</td>\n",
              "      <td>100084</td>\n",
              "      <td>79</td>\n",
              "    </tr>\n",
              "    <tr>\n",
              "      <th>2</th>\n",
              "      <td>1.000037e+19</td>\n",
              "      <td>0</td>\n",
              "      <td>2014-10-21</td>\n",
              "      <td>1005</td>\n",
              "      <td>0</td>\n",
              "      <td>1fbe01fe</td>\n",
              "      <td>f3845767</td>\n",
              "      <td>28905ebd</td>\n",
              "      <td>ecad2386</td>\n",
              "      <td>7801e8d9</td>\n",
              "      <td>...</td>\n",
              "      <td>1</td>\n",
              "      <td>0</td>\n",
              "      <td>15704</td>\n",
              "      <td>320</td>\n",
              "      <td>50</td>\n",
              "      <td>1722</td>\n",
              "      <td>0</td>\n",
              "      <td>35</td>\n",
              "      <td>100084</td>\n",
              "      <td>79</td>\n",
              "    </tr>\n",
              "    <tr>\n",
              "      <th>3</th>\n",
              "      <td>1.000064e+19</td>\n",
              "      <td>0</td>\n",
              "      <td>2014-10-21</td>\n",
              "      <td>1005</td>\n",
              "      <td>0</td>\n",
              "      <td>1fbe01fe</td>\n",
              "      <td>f3845767</td>\n",
              "      <td>28905ebd</td>\n",
              "      <td>ecad2386</td>\n",
              "      <td>7801e8d9</td>\n",
              "      <td>...</td>\n",
              "      <td>1</td>\n",
              "      <td>0</td>\n",
              "      <td>15706</td>\n",
              "      <td>320</td>\n",
              "      <td>50</td>\n",
              "      <td>1722</td>\n",
              "      <td>0</td>\n",
              "      <td>35</td>\n",
              "      <td>100084</td>\n",
              "      <td>79</td>\n",
              "    </tr>\n",
              "    <tr>\n",
              "      <th>4</th>\n",
              "      <td>1.000068e+19</td>\n",
              "      <td>0</td>\n",
              "      <td>2014-10-21</td>\n",
              "      <td>1005</td>\n",
              "      <td>1</td>\n",
              "      <td>fe8cc448</td>\n",
              "      <td>9166c161</td>\n",
              "      <td>0569f928</td>\n",
              "      <td>ecad2386</td>\n",
              "      <td>7801e8d9</td>\n",
              "      <td>...</td>\n",
              "      <td>1</td>\n",
              "      <td>0</td>\n",
              "      <td>18993</td>\n",
              "      <td>320</td>\n",
              "      <td>50</td>\n",
              "      <td>2161</td>\n",
              "      <td>0</td>\n",
              "      <td>35</td>\n",
              "      <td>-1</td>\n",
              "      <td>157</td>\n",
              "    </tr>\n",
              "  </tbody>\n",
              "</table>\n",
              "<p>5 rows × 24 columns</p>\n",
              "</div>"
            ],
            "text/plain": [
              "             id  click       hour    C1  banner_pos   site_id site_domain  \\\n",
              "0  1.000009e+18      0 2014-10-21  1005           0  1fbe01fe    f3845767   \n",
              "1  1.000017e+19      0 2014-10-21  1005           0  1fbe01fe    f3845767   \n",
              "2  1.000037e+19      0 2014-10-21  1005           0  1fbe01fe    f3845767   \n",
              "3  1.000064e+19      0 2014-10-21  1005           0  1fbe01fe    f3845767   \n",
              "4  1.000068e+19      0 2014-10-21  1005           1  fe8cc448    9166c161   \n",
              "\n",
              "  site_category    app_id app_domain ...  device_type device_conn_type    C14  \\\n",
              "0      28905ebd  ecad2386   7801e8d9 ...            1                2  15706   \n",
              "1      28905ebd  ecad2386   7801e8d9 ...            1                0  15704   \n",
              "2      28905ebd  ecad2386   7801e8d9 ...            1                0  15704   \n",
              "3      28905ebd  ecad2386   7801e8d9 ...            1                0  15706   \n",
              "4      0569f928  ecad2386   7801e8d9 ...            1                0  18993   \n",
              "\n",
              "   C15  C16   C17  C18  C19     C20  C21  \n",
              "0  320   50  1722    0   35      -1   79  \n",
              "1  320   50  1722    0   35  100084   79  \n",
              "2  320   50  1722    0   35  100084   79  \n",
              "3  320   50  1722    0   35  100084   79  \n",
              "4  320   50  2161    0   35      -1  157  \n",
              "\n",
              "[5 rows x 24 columns]"
            ]
          },
          "metadata": {
            "tags": []
          },
          "execution_count": 23
        }
      ]
    },
    {
      "metadata": {
        "id": "NK2uJoA8drEi",
        "colab_type": "code",
        "colab": {}
      },
      "cell_type": "code",
      "source": [
        "# Extracting all columns from the train model except the target mask column\n",
        "model_features = np.array(train_model.columns[train_model.columns!=model_target].tolist())\n",
        "from sklearn.model_selection import train_test_split\n",
        "x_train, x_test, y_train, y_test = train_test_split(\n",
        "    train_model[model_features].values,\n",
        "    train_model[model_target].values,\n",
        "    test_size=0.3,\n",
        ")"
      ],
      "execution_count": 0,
      "outputs": []
    },
    {
      "metadata": {
        "id": "9Gaa-Wsqd9sp",
        "colab_type": "code",
        "colab": {}
      },
      "cell_type": "code",
      "source": [
        "from sklearn.model_selection import StratifiedKFold\n",
        "from sklearn.model_selection import GridSearchCV\n",
        "\n",
        "from sklearn.linear_model import LogisticRegression\n",
        "from sklearn.feature_selection import SelectFromModel\n",
        "from sklearn.metrics import f1_score\n",
        "\n",
        "# F1 score used as a performance metric\n",
        "num_splits = 3\n",
        "c_values = np.logspace(-2, 0, 5)\n",
        "stratified_k_fold = StratifiedKFold(n_splits=num_splits)\n",
        "scores = np.zeros(5)\n",
        "nr_params = np.zeros(5)"
      ],
      "execution_count": 0,
      "outputs": []
    },
    {
      "metadata": {
        "id": "yAyI9-2NeMj4",
        "colab_type": "code",
        "outputId": "f48610c6-6e92-4639-85e8-ff74aebb4d8e",
        "colab": {
          "base_uri": "https://localhost:8080/",
          "height": 1037
        }
      },
      "cell_type": "code",
      "source": [
        "for train_data, valid_data in stratified_k_fold.split(x_train,\n",
        "                                                      y_train):\n",
        "    for i, c in enumerate(np.logspace(-2, 0, 5)):\n",
        "        lr_classify = LogisticRegression(penalty='l2',\n",
        "                                         class_weight='balanced',\n",
        "                                         C = c, max_iter=1000)\n",
        "        lr_classify.fit(x_train[train_data],\n",
        "                        y_train[train_data])\n",
        "\n",
        "        #validation_Set evaluation\n",
        "\n",
        "        y_prediction = lr_classify.predict(x_train[valid_data])\n",
        "        score_f1 = f1_score(y_train[valid_data],\n",
        "                            y_prediction, average='weighted' )\n",
        "\n",
        "        scores[i] += score_f1 / num_splits\n",
        "\n",
        "        ### spot the selected parameters ##\n",
        "\n",
        "        model_selected = SelectFromModel(lr_classify, prefit=True)\n",
        "        nr_params[i] += np.sum(model_selected.get_support()) / num_splits"
      ],
      "execution_count": 0,
      "outputs": [
        {
          "output_type": "stream",
          "text": [
            "/usr/local/lib/python3.6/dist-packages/sklearn/linear_model/logistic.py:433: FutureWarning:\n",
            "\n",
            "Default solver will be changed to 'lbfgs' in 0.22. Specify a solver to silence this warning.\n",
            "\n",
            "/usr/local/lib/python3.6/dist-packages/sklearn/linear_model/logistic.py:433: FutureWarning:\n",
            "\n",
            "Default solver will be changed to 'lbfgs' in 0.22. Specify a solver to silence this warning.\n",
            "\n",
            "/usr/local/lib/python3.6/dist-packages/sklearn/linear_model/logistic.py:433: FutureWarning:\n",
            "\n",
            "Default solver will be changed to 'lbfgs' in 0.22. Specify a solver to silence this warning.\n",
            "\n",
            "/usr/local/lib/python3.6/dist-packages/sklearn/linear_model/logistic.py:433: FutureWarning:\n",
            "\n",
            "Default solver will be changed to 'lbfgs' in 0.22. Specify a solver to silence this warning.\n",
            "\n",
            "/usr/local/lib/python3.6/dist-packages/sklearn/linear_model/logistic.py:433: FutureWarning:\n",
            "\n",
            "Default solver will be changed to 'lbfgs' in 0.22. Specify a solver to silence this warning.\n",
            "\n",
            "/usr/local/lib/python3.6/dist-packages/sklearn/linear_model/logistic.py:433: FutureWarning:\n",
            "\n",
            "Default solver will be changed to 'lbfgs' in 0.22. Specify a solver to silence this warning.\n",
            "\n",
            "/usr/local/lib/python3.6/dist-packages/sklearn/linear_model/logistic.py:433: FutureWarning:\n",
            "\n",
            "Default solver will be changed to 'lbfgs' in 0.22. Specify a solver to silence this warning.\n",
            "\n",
            "/usr/local/lib/python3.6/dist-packages/sklearn/linear_model/logistic.py:433: FutureWarning:\n",
            "\n",
            "Default solver will be changed to 'lbfgs' in 0.22. Specify a solver to silence this warning.\n",
            "\n",
            "/usr/local/lib/python3.6/dist-packages/sklearn/linear_model/logistic.py:433: FutureWarning:\n",
            "\n",
            "Default solver will be changed to 'lbfgs' in 0.22. Specify a solver to silence this warning.\n",
            "\n",
            "/usr/local/lib/python3.6/dist-packages/sklearn/linear_model/logistic.py:433: FutureWarning:\n",
            "\n",
            "Default solver will be changed to 'lbfgs' in 0.22. Specify a solver to silence this warning.\n",
            "\n",
            "/usr/local/lib/python3.6/dist-packages/sklearn/linear_model/logistic.py:433: FutureWarning:\n",
            "\n",
            "Default solver will be changed to 'lbfgs' in 0.22. Specify a solver to silence this warning.\n",
            "\n",
            "/usr/local/lib/python3.6/dist-packages/sklearn/linear_model/logistic.py:433: FutureWarning:\n",
            "\n",
            "Default solver will be changed to 'lbfgs' in 0.22. Specify a solver to silence this warning.\n",
            "\n",
            "/usr/local/lib/python3.6/dist-packages/sklearn/linear_model/logistic.py:433: FutureWarning:\n",
            "\n",
            "Default solver will be changed to 'lbfgs' in 0.22. Specify a solver to silence this warning.\n",
            "\n",
            "/usr/local/lib/python3.6/dist-packages/sklearn/linear_model/logistic.py:433: FutureWarning:\n",
            "\n",
            "Default solver will be changed to 'lbfgs' in 0.22. Specify a solver to silence this warning.\n",
            "\n",
            "/usr/local/lib/python3.6/dist-packages/sklearn/linear_model/logistic.py:433: FutureWarning:\n",
            "\n",
            "Default solver will be changed to 'lbfgs' in 0.22. Specify a solver to silence this warning.\n",
            "\n"
          ],
          "name": "stderr"
        }
      ]
    },
    {
      "metadata": {
        "id": "ATMQqCyLeTuR",
        "colab_type": "code",
        "outputId": "0bbf9ff0-f8b7-4212-a95f-be98c17c3043",
        "colab": {
          "base_uri": "https://localhost:8080/",
          "height": 625
        }
      },
      "cell_type": "code",
      "source": [
        "plt.figure(figsize=(20, 10))\n",
        "plt.plot(nr_params, scores)\n",
        "\n",
        "for i, c in enumerate(c_values):\n",
        "    plt.annotate(c, (nr_params[i], scores[i]))\n",
        "plt.xlabel(\"Nr of parameters\")\n",
        "plt.ylabel(\"Avg F1 score\")"
      ],
      "execution_count": 0,
      "outputs": [
        {
          "output_type": "execute_result",
          "data": {
            "text/plain": [
              "Text(0, 0.5, 'Avg F1 score')"
            ]
          },
          "metadata": {
            "tags": []
          },
          "execution_count": 52
        },
        {
          "output_type": "display_data",
          "data": {
            "image/png": "[encoded data removed]",
            "text/plain": [
              "<Figure size 1440x720 with 1 Axes>"
            ]
          },
          "metadata": {
            "tags": []
          }
        }
      ]
    },
    {
      "metadata": {
        "id": "h-cTz72BX4Yk",
        "colab_type": "code",
        "outputId": "723cfd22-99d8-4f52-e6a8-34571d104fa0",
        "colab": {
          "base_uri": "https://localhost:8080/",
          "height": 1496
        }
      },
      "cell_type": "code",
      "source": [
        "import xgboost\n",
        "from xgboost import XGBClassifier\n",
        "from sklearn.metrics import classification_report\n",
        "from sklearn.model_selection import train_test_split\n",
        "\n",
        "\n",
        "x_train, x_valid, y_train, y_valid = train_test_split(\n",
        "    x_train,\n",
        "    y_train,\n",
        "    stratify=y_train,\n",
        "    test_size=0.1)\n",
        "\n",
        "\n",
        "xgb_clf = XGBClassifier()\n",
        "\n",
        "xgb_clf.fit(x_train, y_train, early_stopping_rounds=10,\n",
        "            eval_metric=\"logloss\", eval_set=[(x_valid, y_valid)])"
      ],
      "execution_count": 0,
      "outputs": [
        {
          "output_type": "stream",
          "text": [
            "[0]\tvalidation_0-logloss:0.652119\n",
            "Will train until validation_0-logloss hasn't improved in 10 rounds.\n",
            "[1]\tvalidation_0-logloss:0.619066\n",
            "[2]\tvalidation_0-logloss:0.591487\n",
            "[3]\tvalidation_0-logloss:0.567851\n",
            "[4]\tvalidation_0-logloss:0.548378\n",
            "[5]\tvalidation_0-logloss:0.532106\n",
            "[6]\tvalidation_0-logloss:0.518663\n",
            "[7]\tvalidation_0-logloss:0.507773\n",
            "[8]\tvalidation_0-logloss:0.498611\n",
            "[9]\tvalidation_0-logloss:0.490702\n",
            "[10]\tvalidation_0-logloss:0.483898\n",
            "[11]\tvalidation_0-logloss:0.478229\n",
            "[12]\tvalidation_0-logloss:0.473224\n",
            "[13]\tvalidation_0-logloss:0.469434\n",
            "[14]\tvalidation_0-logloss:0.46582\n",
            "[15]\tvalidation_0-logloss:0.463052\n",
            "[16]\tvalidation_0-logloss:0.460437\n",
            "[17]\tvalidation_0-logloss:0.458529\n",
            "[18]\tvalidation_0-logloss:0.456734\n",
            "[19]\tvalidation_0-logloss:0.455587\n",
            "[20]\tvalidation_0-logloss:0.454629\n",
            "[21]\tvalidation_0-logloss:0.45354\n",
            "[22]\tvalidation_0-logloss:0.452775\n",
            "[23]\tvalidation_0-logloss:0.452234\n",
            "[24]\tvalidation_0-logloss:0.451817\n",
            "[25]\tvalidation_0-logloss:0.451396\n",
            "[26]\tvalidation_0-logloss:0.451105\n",
            "[27]\tvalidation_0-logloss:0.450931\n",
            "[28]\tvalidation_0-logloss:0.450509\n",
            "[29]\tvalidation_0-logloss:0.450147\n",
            "[30]\tvalidation_0-logloss:0.44994\n",
            "[31]\tvalidation_0-logloss:0.449656\n",
            "[32]\tvalidation_0-logloss:0.449607\n",
            "[33]\tvalidation_0-logloss:0.449387\n",
            "[34]\tvalidation_0-logloss:0.449112\n",
            "[35]\tvalidation_0-logloss:0.448896\n",
            "[36]\tvalidation_0-logloss:0.449043\n",
            "[37]\tvalidation_0-logloss:0.448853\n",
            "[38]\tvalidation_0-logloss:0.448987\n",
            "[39]\tvalidation_0-logloss:0.449057\n",
            "[40]\tvalidation_0-logloss:0.449168\n",
            "[41]\tvalidation_0-logloss:0.44912\n",
            "[42]\tvalidation_0-logloss:0.448969\n",
            "[43]\tvalidation_0-logloss:0.448938\n",
            "[44]\tvalidation_0-logloss:0.448956\n",
            "[45]\tvalidation_0-logloss:0.448912\n",
            "[46]\tvalidation_0-logloss:0.448946\n",
            "[47]\tvalidation_0-logloss:0.448823\n",
            "[48]\tvalidation_0-logloss:0.448656\n",
            "[49]\tvalidation_0-logloss:0.448606\n",
            "[50]\tvalidation_0-logloss:0.448639\n",
            "[51]\tvalidation_0-logloss:0.448535\n",
            "[52]\tvalidation_0-logloss:0.448602\n",
            "[53]\tvalidation_0-logloss:0.448647\n",
            "[54]\tvalidation_0-logloss:0.448555\n",
            "[55]\tvalidation_0-logloss:0.44874\n",
            "[56]\tvalidation_0-logloss:0.448782\n",
            "[57]\tvalidation_0-logloss:0.448608\n",
            "[58]\tvalidation_0-logloss:0.448648\n",
            "[59]\tvalidation_0-logloss:0.448534\n",
            "[60]\tvalidation_0-logloss:0.448644\n",
            "[61]\tvalidation_0-logloss:0.448566\n",
            "[62]\tvalidation_0-logloss:0.4485\n",
            "[63]\tvalidation_0-logloss:0.448502\n",
            "[64]\tvalidation_0-logloss:0.448429\n",
            "[65]\tvalidation_0-logloss:0.448496\n",
            "[66]\tvalidation_0-logloss:0.448388\n",
            "[67]\tvalidation_0-logloss:0.448436\n",
            "[68]\tvalidation_0-logloss:0.448507\n",
            "[69]\tvalidation_0-logloss:0.448745\n",
            "[70]\tvalidation_0-logloss:0.448817\n",
            "[71]\tvalidation_0-logloss:0.448779\n",
            "[72]\tvalidation_0-logloss:0.44884\n",
            "[73]\tvalidation_0-logloss:0.449147\n",
            "[74]\tvalidation_0-logloss:0.44917\n",
            "[75]\tvalidation_0-logloss:0.449229\n",
            "[76]\tvalidation_0-logloss:0.449332\n",
            "Stopping. Best iteration:\n",
            "[66]\tvalidation_0-logloss:0.448388\n",
            "\n"
          ],
          "name": "stdout"
        },
        {
          "output_type": "execute_result",
          "data": {
            "text/plain": [
              "XGBClassifier(base_score=0.5, booster='gbtree', colsample_bylevel=1,\n",
              "       colsample_bytree=1, gamma=0, learning_rate=0.1, max_delta_step=0,\n",
              "       max_depth=3, min_child_weight=1, missing=None, n_estimators=100,\n",
              "       n_jobs=1, nthread=None, objective='binary:logistic', random_state=0,\n",
              "       reg_alpha=0, reg_lambda=1, scale_pos_weight=1, seed=None,\n",
              "       silent=True, subsample=1)"
            ]
          },
          "metadata": {
            "tags": []
          },
          "execution_count": 17
        }
      ]
    },
    {
      "metadata": {
        "id": "LtCzrPixZPqX",
        "colab_type": "code",
        "outputId": "4d1ea41e-2ba6-4c0d-f14c-aa323dbb57d9",
        "colab": {
          "base_uri": "https://localhost:8080/",
          "height": 170
        }
      },
      "cell_type": "code",
      "source": [
        "y_pred = xgb_clf.predict(x_test)\n",
        "predictions = [round(value) for value in y_pred]\n",
        "print(classification_report(y_test,\n",
        "                            predictions))"
      ],
      "execution_count": 0,
      "outputs": [
        {
          "output_type": "stream",
          "text": [
            "              precision    recall  f1-score   support\n",
            "\n",
            "           0       0.84      1.00      0.91      2502\n",
            "           1       0.59      0.02      0.04       498\n",
            "\n",
            "   micro avg       0.83      0.83      0.83      3000\n",
            "   macro avg       0.71      0.51      0.47      3000\n",
            "weighted avg       0.80      0.83      0.77      3000\n",
            "\n"
          ],
          "name": "stdout"
        }
      ]
    }
  ]
}